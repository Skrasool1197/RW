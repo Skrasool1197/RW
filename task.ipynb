{
 "cells": [
  {
   "cell_type": "code",
   "execution_count": 1,
   "metadata": {},
   "outputs": [],
   "source": [
    "import cv2\n",
    "import pytesseract\n",
    "from pytesseract import Output\n",
    "from PIL import Image\n",
    "import os"
   ]
  },
  {
   "cell_type": "code",
   "execution_count": 2,
   "metadata": {},
   "outputs": [],
   "source": [
    "def preprocess_image(image_path):\n",
    "    \"\"\"\n",
    "    Preprocess the image for better OCR results.\n",
    "    Steps:\n",
    "    - Convert to grayscale\n",
    "    - Apply thresholding\n",
    "    - Remove noise\n",
    "    \"\"\"\n",
    "    # Read image using OpenCV\n",
    "    image = cv2.imread(image_path)\n",
    "\n",
    "    # Convert to grayscale\n",
    "    gray = cv2.cvtColor(image, cv2.COLOR_BGR2GRAY)\n",
    "\n",
    "    # Apply thresholding to get binary image\n",
    "    _, thresh = cv2.threshold(gray, 150, 255, cv2.THRESH_BINARY_INV)\n",
    "\n",
    "    # Dilate to connect text regions\n",
    "    kernel = cv2.getStructuringElement(cv2.MORPH_RECT, (2,2))\n",
    "    dilated = cv2.dilate(thresh, kernel, iterations=1)\n",
    "\n",
    "    return dilated"
   ]
  },
  {
   "cell_type": "code",
   "execution_count": 3,
   "metadata": {},
   "outputs": [],
   "source": [
    "def extract_text_with_data(preprocessed_image):\n",
    "    \"\"\"\n",
    "    Extract text using pytesseract and get detailed data including bounding boxes and font sizes.\n",
    "    \"\"\"\n",
    "    # Convert OpenCV image to PIL Image\n",
    "    pil_image = Image.fromarray(preprocessed_image)\n",
    "\n",
    "    # Use Tesseract to do OCR on the image\n",
    "    data = pytesseract.image_to_data(pil_image, output_type=Output.DICT)\n",
    "\n",
    "    return data"
   ]
  },
  {
   "cell_type": "code",
   "execution_count": 4,
   "metadata": {},
   "outputs": [],
   "source": [
    "def organize_text(data):\n",
    "    \"\"\"\n",
    "    Organize extracted text into a dictionary where headings are keys and subheadings are values.\n",
    "    Assumption: Headings have larger font sizes than subheadings.\n",
    "    \"\"\"\n",
    "    n_boxes = len(data['level'])\n",
    "    texts = []\n",
    "\n",
    "    # Collect all text elements with their font sizes and positions\n",
    "    for i in range(n_boxes):\n",
    "        if int(data['conf'][i]) > 60:  # Filter out weak confidence text\n",
    "            text = data['text'][i].strip()\n",
    "            if text:\n",
    "                texts.append({\n",
    "                    'text': text,\n",
    "                    'font_size': data['height'][i],\n",
    "                    'y': data['top'][i]\n",
    "                })\n",
    "\n",
    "    # Sort texts based on y-coordinate to maintain order\n",
    "    texts = sorted(texts, key=lambda x: x['y'])\n",
    "\n",
    "    # Determine a threshold to differentiate between headings and subheadings\n",
    "    # For simplicity, assume the top 30% font sizes are headings\n",
    "    font_sizes = [item['font_size'] for item in texts]\n",
    "    if not font_sizes:\n",
    "        return {}\n",
    "    threshold = sorted(font_sizes, reverse=True)[max(1, len(font_sizes)//3)]\n",
    "\n",
    "    organized_dict = {}\n",
    "    current_heading = None\n",
    "\n",
    "    for item in texts:\n",
    "        if item['font_size'] >= threshold:\n",
    "            current_heading = item['text']\n",
    "            organized_dict[current_heading] = \"\"\n",
    "        else:\n",
    "            if current_heading:\n",
    "                if organized_dict[current_heading]:\n",
    "                    organized_dict[current_heading] += \" \" + item['text']\n",
    "                else:\n",
    "                    organized_dict[current_heading] = item['text']\n",
    "\n",
    "    return organized_dict"
   ]
  },
  {
   "cell_type": "code",
   "execution_count": 5,
   "metadata": {},
   "outputs": [],
   "source": [
    "def extract_headings_subheadings(image_path):\n",
    "    \"\"\"\n",
    "    Main function to extract headings and subheadings from an image and return as a dictionary.\n",
    "    \"\"\"\n",
    "    preprocessed_image = preprocess_image(image_path)\n",
    "    data = extract_text_with_data(preprocessed_image)\n",
    "    organized_dict = organize_text(data)\n",
    "    return organized_dict"
   ]
  },
  {
   "cell_type": "code",
   "execution_count": null,
   "metadata": {},
   "outputs": [],
   "source": []
  }
 ],
 "metadata": {
  "kernelspec": {
   "display_name": "Python 3",
   "language": "python",
   "name": "python3"
  },
  "language_info": {
   "codemirror_mode": {
    "name": "ipython",
    "version": 3
   },
   "file_extension": ".py",
   "mimetype": "text/x-python",
   "name": "python",
   "nbconvert_exporter": "python",
   "pygments_lexer": "ipython3",
   "version": "3.12.0"
  }
 },
 "nbformat": 4,
 "nbformat_minor": 2
}
